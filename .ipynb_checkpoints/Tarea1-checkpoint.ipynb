{
 "cells": [
  {
   "cell_type": "markdown",
   "id": "437cca88-1425-49ac-a60c-2a7c47f12ffe",
   "metadata": {},
   "source": [
    "# Tarea_1-AshleyArrieta"
   ]
  },
  {
   "cell_type": "markdown",
   "id": "bd621dbb-f6f2-40f9-9319-dd0d2dc05dcb",
   "metadata": {},
   "source": [
    "# Ejercicio 1"
   ]
  },
  {
   "cell_type": "code",
   "execution_count": 6,
   "id": "682fde52-5ec6-47e2-bb77-224584143d88",
   "metadata": {},
   "outputs": [
    {
     "name": "stdout",
     "output_type": "stream",
     "text": [
      "[92, 11, 86]\n"
     ]
    }
   ],
   "source": [
    "    import random\n",
    "valores_aleatorios = [random.randint(1,100), random.randint(1,100), random.randint(1,100)] #Hacer la lista generando tres valores aleatorios usando randint\n",
    "print(valores_aleatorios)"
   ]
  },
  {
   "cell_type": "code",
   "execution_count": 8,
   "id": "2b061b7e-51e9-47f5-8838-4ab10d69cbff",
   "metadata": {},
   "outputs": [
    {
     "name": "stdout",
     "output_type": "stream",
     "text": [
      "[7, 4, 8]\n"
     ]
    }
   ],
   "source": [
    "valores_aleatorios2 = [random.randint(1,10), random.randint(1,10), random.randint(1,10)] #valores aleatorios para el divisor\n",
    "print(valores_aleatorios2)"
   ]
  },
  {
   "cell_type": "code",
   "execution_count": 28,
   "id": "6ad6ee70-dda4-4e02-85b0-5610fc7f0743",
   "metadata": {},
   "outputs": [
    {
     "name": "stdout",
     "output_type": "stream",
     "text": [
      "[13, 2, 10]\n"
     ]
    }
   ],
   "source": [
    "cocientes = [(valores_aleatorios[0] // valores_aleatorios2[0]), (valores_aleatorios[1] // valores_aleatorios2[1]), (valores_aleatorios[2] // valores_aleatorios2[2])] \n",
    "print(cocientes) #Note que estoy haciendo la divisio con \"//\" por lo tanto la respuesta sera dada solo por la parte entera sin decimales."
   ]
  },
  {
   "cell_type": "code",
   "execution_count": 35,
   "id": "ed3e2d0f-0783-425d-b242-9411cd050a7d",
   "metadata": {},
   "outputs": [
    {
     "data": {
      "text/plain": [
       "{'Dividendos': [92, 11, 86], 'Divisor': [7, 4, 8], 'Cociente': [13, 2, 10]}"
      ]
     },
     "execution_count": 35,
     "metadata": {},
     "output_type": "execute_result"
    }
   ],
   "source": [
    "def diccionario(Dividendos: int, Divisor: int, Cociente: int):\n",
    "    dic = {\n",
    "    \"Dividendos\": valores_aleatorios,\n",
    "    \"Divisor\" : valores_aleatorios2,\n",
    "    \"Cociente\": cocientes\n",
    "}\n",
    "    return dic\n",
    "diccionario(Dividendos = valores_aleatorios, Divisor = valores_aleatorios2, Cociente= cocientes)"
   ]
  },
  {
   "cell_type": "code",
   "execution_count": null,
   "id": "468d5d3a-2181-418c-9065-64c91f21207c",
   "metadata": {},
   "outputs": [],
   "source": []
  },
  {
   "cell_type": "markdown",
   "id": "cc6eeab2-cf41-4f16-855b-9c7583ab13d1",
   "metadata": {},
   "source": [
    "# Ejercicio 2 "
   ]
  },
  {
   "cell_type": "code",
   "execution_count": 65,
   "id": "ac811a68-f941-4d87-b088-ebfd5f9eeaca",
   "metadata": {},
   "outputs": [
    {
     "name": "stdout",
     "output_type": "stream",
     "text": [
      "¡Hola!, ¿cómo va todo? Éxitos\n"
     ]
    }
   ],
   "source": [
    "cadena =  \"¡Hola!, ¿cómo va todo? Éxitos\" #string\n",
    "print(cadena)"
   ]
  },
  {
   "cell_type": "code",
   "execution_count": 75,
   "id": "e6fdb92f-25c5-4b2f-8379-bc0e42df6103",
   "metadata": {},
   "outputs": [
    {
     "data": {
      "text/plain": [
       "{'Hola!, ': 1, 'cómo': 1, 'va': 1, 'todo?': 1, 'Éxitos': 1}"
      ]
     },
     "execution_count": 75,
     "metadata": {},
     "output_type": "execute_result"
    }
   ],
   "source": [
    "Hola = cadena.count(\"¡Hola!, \")\n",
    "Como = cadena.count(\"¿cómo \")\n",
    "Va = cadena.count(\"va\")\n",
    "Todo = cadena.count(\"todo?\")\n",
    "Exitos = cadena.count(\"Éxitos\")\n",
    "\n",
    "def contador(Hola: int, Como : int, Va: int, Todo: int, Exitos : int):\n",
    "    dic = {\n",
    "        \"Hola!, \" : Hola,\n",
    "        \"cómo\": Como,\n",
    "        \"va\" : Va,\n",
    "        \"todo?\" : Todo,\n",
    "        \"Éxitos\": Exitos\n",
    "}\n",
    "    return dic\n",
    "contador(Hola = Hola, Como = Como, Va = Va, Todo = Todo, Exitos = Exitos)\n"
   ]
  },
  {
   "cell_type": "markdown",
   "id": "6463392a-cf11-4176-a862-d4e390ac4c4f",
   "metadata": {},
   "source": [
    "# Ejercicio 3"
   ]
  },
  {
   "cell_type": "code",
   "execution_count": 76,
   "id": "1b079594-df1e-4ed0-813e-2dfca2a82b00",
   "metadata": {},
   "outputs": [
    {
     "name": "stdout",
     "output_type": "stream",
     "text": [
      "¡Hola!, ¿cómo va todo?, Éxitos\n"
     ]
    }
   ],
   "source": [
    "cadena = \"¡Hola!, ¿cómo va todo?, Éxitos\"\n",
    "print(cadena)"
   ]
  },
  {
   "cell_type": "code",
   "execution_count": 90,
   "id": "f5f40203-14a2-4e55-b763-8300f18b24bd",
   "metadata": {},
   "outputs": [
    {
     "data": {
      "text/plain": [
       "'Hay 6 signos de puntuacion.'"
      ]
     },
     "execution_count": 90,
     "metadata": {},
     "output_type": "execute_result"
    }
   ],
   "source": [
    "contar1 = cadena.count(\"¡\")\n",
    "contar2 = cadena.count(\"!\")\n",
    "contar3 = cadena.count(\",\")\n",
    "contar4 = cadena.count(\"?\")\n",
    "contar5 = cadena.count (\"¿\")\n",
    "\n",
    "def contar():\n",
    "    total = contar1 + contar2 + contar3 + contar4 + contar5\n",
    "    return f'Hay {total} signos de puntuacion.'\n",
    "contar()"
   ]
  },
  {
   "cell_type": "markdown",
   "id": "f945dbe7-9207-4c2b-b16b-89b238c64c41",
   "metadata": {},
   "source": [
    "# Ejercicio 4"
   ]
  },
  {
   "cell_type": "code",
   "execution_count": 95,
   "id": "5b182dc1-2acb-46a1-9f84-a36fa3215e6c",
   "metadata": {},
   "outputs": [
    {
     "name": "stdout",
     "output_type": "stream",
     "text": [
      "'i': amigos\n"
     ]
    }
   ],
   "source": [
    "cadena_1 = \"Ok amigos\"\n",
    "caracter_1 = \"i\"\n",
    "def encontrar_cadena(texto, caracter):\n",
    "    posicion_caracter = texto.find(caracter)\n",
    "    \n",
    "    cadena_previa = texto[:posicion_caracter]\n",
    "    \n",
    "    cadena_posterior = texto[posicion_caracter+1:]\n",
    "    \n",
    "    ultimo_espacio_previo = cadena_previa.rfind(' ')\n",
    "    \n",
    "    primer_espacio_posterior = cadena_posterior.find(' ')\n",
    "    \n",
    "    if ultimo_espacio_previo == -1:\n",
    "        ultimo_espacio_previo = 0\n",
    "    else:\n",
    "        ultimo_espacio_previo += 1\n",
    "    \n",
    "    if primer_espacio_posterior == -1:\n",
    "        primer_espacio_posterior = len(texto)\n",
    "    else:\n",
    "        primer_espacio_posterior += posicion_caracter + 1\n",
    "    \n",
    "    subcadena = texto[ultimo_espacio_previo:primer_espacio_posterior]\n",
    "    \n",
    "    resultado = f\"'{caracter}': {subcadena}\"\n",
    "    return resultado\n",
    "\n",
    "\n",
    "print(encontrar_cadena(cadena_1, caracter_1))\n",
    "\n"
   ]
  },
  {
   "cell_type": "markdown",
   "id": "6572c6e1-db6e-438a-955b-2e65f32fda30",
   "metadata": {},
   "source": [
    "# Ejercicio 5"
   ]
  },
  {
   "cell_type": "code",
   "execution_count": 8,
   "id": "d2e0a2e3-0f4e-4850-9815-2822ba4a5db1",
   "metadata": {},
   "outputs": [
    {
     "data": {
      "text/plain": [
       "{'Edad Promedio': 29.5,\n",
       " 'Costos promedio': 7177158.25,\n",
       " 'Edad maxima': 65,\n",
       " 'Edad minima': 7,\n",
       " 'Emergencia promedio': 2.75}"
      ]
     },
     "execution_count": 8,
     "metadata": {},
     "output_type": "execute_result"
    }
   ],
   "source": [
    "import datetime\n",
    "lista_pacientes = {\n",
    "\"1\": {\n",
    "\"Edad\": 23,\n",
    "\"Tipo sangre\": \"-O\",\n",
    "\"Fecha ingreso\": datetime.datetime(2023, 6, 1),\n",
    "\"Fecha salida\": datetime.datetime(2023, 6, 15),\n",
    "\"Nivel de emergencia\": 2,\n",
    "\"Pago de servicios\": 502333\n",
    "},\n",
    "\"2\": {\n",
    "\"Edad\": 7,\n",
    "\"Tipo sangre\": \"AB+\",\n",
    "\"Fecha ingreso\": datetime.datetime(2024, 1, 1),\n",
    "\"Fecha salida\": \"NA\",\n",
    "\"Nivel de emergencia\": 5,\n",
    "\"Pago de servicios\": 0\n",
    "},\n",
    "\"3\": {\n",
    "\"Edad\": 65,\n",
    "\"Tipo sangre\": \"AB+\",\n",
    "\"Fecha ingreso\": datetime.datetime(2023, 2, 1),\n",
    "\"Fecha salida\": datetime.datetime(2024, 2, 1),\n",
    "\"Nivel de emergencia\": 4,\n",
    "\"Pago de servicios\": 28006000\n",
    "},\n",
    "\"4\": {\n",
    "\"Edad\": 23,\n",
    "\"Tipo sangre\": \"AB-\",\n",
    "\"Fecha ingreso\": datetime.datetime(2024, 2, 1),\n",
    "\"Fecha salida\": datetime.datetime(2024, 2, 1),\n",
    "\"Nivel de emergencia\": 0,\n",
    "\"Pago de servicios\": 200300\n",
    "},\n",
    "}\n",
    "Edad_promedio = ((lista_pacientes[\"1\"][\"Edad\"] + lista_pacientes[\"2\"][\"Edad\"] + lista_pacientes[\"3\"][\"Edad\"] + lista_pacientes[\"4\"][\"Edad\"] ) / 4)\n",
    "Costos_promedio = ((lista_pacientes[\"1\"][\"Pago de servicios\"] + lista_pacientes[\"2\"][\"Pago de servicios\"] + lista_pacientes[\"3\"][\"Pago de servicios\"] + lista_pacientes[\"4\"][\"Pago de servicios\"] ) / 4)\n",
    "Edad_maxima = max(lista_pacientes[\"1\"][\"Edad\"], lista_pacientes[\"2\"][\"Edad\"], lista_pacientes[\"3\"][\"Edad\"],  lista_pacientes[\"4\"][\"Edad\"] )\n",
    "Edad_minima = min(lista_pacientes[\"1\"][\"Edad\"], lista_pacientes[\"2\"][\"Edad\"], lista_pacientes[\"3\"][\"Edad\"],  lista_pacientes[\"4\"][\"Edad\"] )\n",
    "Emergencia_promedio = ((lista_pacientes[\"1\"][\"Nivel de emergencia\"] + lista_pacientes[\"2\"][\"Nivel de emergencia\"] + lista_pacientes[\"3\"][\"Nivel de emergencia\"] + lista_pacientes[\"4\"][\"Nivel de emergencia\"] ) / 4)\n",
    "\n",
    "\n",
    "def estadisticas(Edad_promedio: float, Costos_promedio: float, Edad_maxima: int, Edad_minima: int, Emergencia_promedio: float):\n",
    "    dic = {\n",
    "    \"Edad Promedio\" : Edad_promedio,\n",
    "    \"Costos promedio\" : Costos_promedio,\n",
    "    \"Edad maxima\": Edad_maxima,\n",
    "    \"Edad minima\" : Edad_minima,\n",
    "    \"Emergencia promedio\" : Emergencia_promedio\n",
    "    }        \n",
    "    return dic\n",
    "estadisticas(Edad_promedio, Costos_promedio, Edad_maxima, Edad_minima, Emergencia_promedio)  \n",
    "  \n"
   ]
  },
  {
   "cell_type": "markdown",
   "id": "f6ccb474-c215-4a5a-9732-c1ffd78e0ec5",
   "metadata": {},
   "source": [
    "# Ejercicio 6"
   ]
  },
  {
   "cell_type": "code",
   "execution_count": 163,
   "id": "4c6bef16-d0d2-43c9-b937-5a9aeb8f2aaf",
   "metadata": {},
   "outputs": [
    {
     "name": "stdout",
     "output_type": "stream",
     "text": [
      "{'Paciente 1': {'Diferencia pago inicial': 265033.0,\n",
      "                'Precio final con IVA': 237300.0,\n",
      "                'Solo IVA': 27300.0},\n",
      " 'Paciente 2': {'Diferencia pago inicial': 'Paciente 2: Somos una institución '\n",
      "                                           'comprometida con la juventud, por '\n",
      "                                           'ser menor de edad su pago es 0',\n",
      "                'Precio final con IVA': 'Paciente 2: Somos una institución '\n",
      "                                        'comprometida con la juventud, por ser '\n",
      "                                        'menor de edad su pago es 0',\n",
      "                'Solo IVA': 'Paciente 2: Somos una institución comprometida '\n",
      "                            'con la juventud, por ser menor de edad su pago es '\n",
      "                            '0'},\n",
      " 'Paciente 3': {'Diferencia pago inicial': 14446000.0,\n",
      "                'Precio final con IVA': 13560000.0,\n",
      "                'Solo IVA': 1560000.0},\n",
      " 'Paciente 4': {'Diferencia pago inicial': 191260.0,\n",
      "                'Precio final con IVA': 9040.0,\n",
      "                'Solo IVA': 1040.0}}\n"
     ]
    }
   ],
   "source": [
    "import datetime\n",
    "import pprint\n",
    "lista_pacientes = {\n",
    "\"1\": {\n",
    "\"Edad\": 23,\n",
    "\"Tipo sangre\": \"-O\",\n",
    "\"Fecha ingreso\": datetime.datetime(2023, 6, 1),\n",
    "\"Fecha salida\": datetime.datetime(2023, 6, 15),\n",
    "\"Nivel de emergencia\": 2,\n",
    "\"Pago de servicios\": 502333\n",
    "},\n",
    "\"2\": {\n",
    "\"Edad\": 7,\n",
    "\"Tipo sangre\": \"AB+\",\n",
    "\"Fecha ingreso\": datetime.datetime(2024, 1, 1),\n",
    "\"Fecha salida\": \"NA\",\n",
    "\"Nivel de emergencia\": 5,\n",
    "\"Pago de servicios\": 0\n",
    "},\n",
    "\"3\": {\n",
    "\"Edad\": 65,\n",
    "\"Tipo sangre\": \"AB+\",\n",
    "\"Fecha ingreso\": datetime.datetime(2023, 2, 1),\n",
    "\"Fecha salida\": datetime.datetime(2024, 2, 1),\n",
    "\"Nivel de emergencia\": 4,\n",
    "\"Pago de servicios\": 28006000\n",
    "},\n",
    "\"4\": {\n",
    "\"Edad\": 23,\n",
    "\"Tipo sangre\": \"AB-\",\n",
    "\"Fecha ingreso\": datetime.datetime(2024, 2, 1),\n",
    "\"Fecha salida\": datetime.datetime(2024, 2, 1),\n",
    "\"Nivel de emergencia\": 0,\n",
    "\"Pago de servicios\": 200300\n",
    "},\n",
    "}\n",
    "lista_pacientes[\"2\"][\"Fecha salida\"] = '\"NA\"'\n",
    "\n",
    "\n",
    "\n",
    "def tiempo_hospital(ingreso, salida): #funcion para el paciente 2 \n",
    "    if salida == \"NA\":\n",
    "        return(\"El paciente 2 no ha salido del hospital\")\n",
    "tiempo_2 = tiempo_hospital(lista_pacientes[\"2\"][\"Fecha ingreso\"] , lista_pacientes[\"2\"][\"Fecha salida\"])\n",
    "tiempo_1 = (lista_pacientes[\"1\"][\"Fecha salida\"] - lista_pacientes[\"1\"][\"Fecha ingreso\"]).days #calcular el tiempo de cada paciente\n",
    "tiempo_3 = (lista_pacientes[\"3\"][\"Fecha salida\"] - lista_pacientes[\"3\"][\"Fecha ingreso\"]).days\n",
    "tiempo_4 = (lista_pacientes[\"4\"][\"Fecha salida\"] - lista_pacientes[\"4\"][\"Fecha ingreso\"]).days\n",
    "\n",
    "def cobro_paciente_1(tiempo):\n",
    "    cobro = 0\n",
    "    if (lista_pacientes[\"1\"][\"Edad\"] < 18):\n",
    "        print (\"Paciente 1: Somos una institución comprometida con la juventud, por ser menor de edad su pago es 0\")\n",
    "        return\n",
    "    if tiempo is None:\n",
    "        print(\"Paciente 1: Su pago no puede ser procesado aun porque no se ha emitido su fecha de salida\")\n",
    "        return\n",
    "    if (0 <= tiempo < 1):\n",
    "        cobro = 8000 + (8000 * 0.13) \n",
    "        cobro_sin_IVA = 8000\n",
    "        return cobro, cobro_sin_IVA\n",
    "    elif (1 <= tiempo < 30):\n",
    "        cobro = (15000+ (15000 * 0.13)) * tiempo\n",
    "        cobro_sin_IVA = (15000*0.13) * tiempo \n",
    "        return cobro, cobro_sin_IVA\n",
    "    else:\n",
    "        meses =  tiempo //30\n",
    "        cobro = (meses * 1000000) * 0.13 + (meses * 1000000)\n",
    "        cobro_sin_IVA: (meses * 1000000) *0.13\n",
    "        return cobro, cobro_sin_IVA\n",
    "\n",
    "\n",
    "\n",
    "def cobro_paciente_2(tiempo):\n",
    "    cobro = 0\n",
    "    if (lista_pacientes[\"2\"][\"Edad\"] < 18):\n",
    "        mensaje = \"Paciente 2: Somos una institución comprometida con la juventud, por ser menor de edad su pago es 0\"\n",
    "        return mensaje\n",
    "    if tiempo is None:\n",
    "        print(\"Paciente 2: Su pago no puede ser procesado aun porque no se ha emitido su fecha de salida\")\n",
    "        return\n",
    "    if (0 <= tiempo < 1):\n",
    "        cobro = 8000 + (8000 * 0.13) \n",
    "        cobro_sin_IVA = 8000\n",
    "        return cobro, cobro_sin_IVA\n",
    "    elif (1 <= tiempo < 30):\n",
    "        cobro = (15000+ (15000 * 0.13)) * tiempo\n",
    "        cobro_sin_IVA = (15000 * 0.13) * tiempo \n",
    "        return cobro, cobro_sin_IVA\n",
    "    else:\n",
    "        meses =  tiempo //30\n",
    "        cobro = (meses * 1000000) * 0.13 + (meses * 1000000)\n",
    "        cobro_sin_IVA: (meses * 1000000) * 0.13\n",
    "        return cobro, cobro_sin_IVA\n",
    "\n",
    "\n",
    "\n",
    "\n",
    "def cobro_paciente_3(tiempo):\n",
    "    cobro = 0\n",
    "    if (lista_pacientes[\"3\"][\"Edad\"] < 18):\n",
    "        print (\"Paciente 3: Somos una institución comprometida con la juventud, por ser menor de edad su pago es 0\")\n",
    "        return\n",
    "    if tiempo is None:\n",
    "        print(\"Paciente 3: Su pago no puede ser procesado aun porque no se ha emitido su fecha de salida\")\n",
    "        return\n",
    "    if (0 <= tiempo < 1):\n",
    "        cobro = 8000 + (8000 * 0.13) \n",
    "        cobro_sin_IVA = 8000 \n",
    "        return cobro, cobro_sin_IVA\n",
    "    elif (1 <= tiempo < 30):\n",
    "        cobro = (15000+ (15000 * 0.13)) * tiempo\n",
    "        cobro_sin_IVA = (15000 * 0.13) * tiempo\n",
    "        return cobro, cobro_sin_IVA\n",
    "    else:\n",
    "        meses =  tiempo //30\n",
    "        cobro = (meses * 1000000) * 0.13 + (meses * 1000000)\n",
    "        cobro_sin_IVA = (meses * 1000000) * 0.13\n",
    "        return cobro, cobro_sin_IVA\n",
    "\n",
    "\n",
    "\n",
    "\n",
    "\n",
    "def cobro_paciente_4(tiempo):\n",
    "    cobro = 0\n",
    "    if (lista_pacientes[\"4\"][\"Edad\"] < 18):\n",
    "        print (\"Paciente 4: Somos una institución comprometida con la juventud, por ser menor de edad su pago es 0\")\n",
    "        return\n",
    "    if tiempo is None:\n",
    "        print(\"Paciente 4: Su pago no puede ser procesado aun porque no se ha emitido su fecha de salida\")\n",
    "        return\n",
    "    if (0 <= tiempo < 1):\n",
    "        cobro = 8000 + (8000 * 0.13) \n",
    "        cobro_sin_IVA = 8000 * 0.13\n",
    "        return cobro, cobro_sin_IVA\n",
    "    elif (1 <= tiempo < 30):\n",
    "        cobro = (15000+ (15000 * 0.13)) * tiempo\n",
    "        cobro_sin_IVA = (15000 * 0.13) * tiempo \n",
    "        return cobro, cobro_sin_IVA\n",
    "    else:\n",
    "        meses =  tiempo //30\n",
    "        cobro = (meses * 1000000) * 0.13 + (meses * 1000000)\n",
    "        cobro_sin_IVA: (meses * 1000000) * 0.13\n",
    "        return cobro,cobro_sin_IVA\n",
    "\n",
    "\n",
    "\n",
    "\n",
    "Resultado_1 = cobro_paciente_1(tiempo_1)\n",
    "Resultado_2= cobro_paciente_2(tiempo_2)\n",
    "Resultado_3 = cobro_paciente_3(tiempo_3)\n",
    "Resultado_4 = cobro_paciente_4(tiempo_4)\n",
    "\n",
    "\n",
    "dic = {\n",
    "    \"Paciente 1\": {\n",
    "    \"Precio final con IVA\" : Resultado_1[0],\n",
    "    \"Diferencia pago inicial\" : lista_pacientes[\"1\"][\"Pago de servicios\"] - Resultado_1[0],\n",
    "    \"Solo IVA\" : Resultado_1[1]\n",
    "    \n",
    "    },\n",
    "    \"Paciente 2\": {\n",
    "    \"Precio final con IVA\" : Resultado_2,\n",
    "    \"Diferencia pago inicial\" : Resultado_2,\n",
    "    \"Solo IVA\" : Resultado_2\n",
    "    },\n",
    "    \"Paciente 3\": {\n",
    "    \"Precio final con IVA\" : Resultado_3[0],\n",
    "    \"Diferencia pago inicial\" : lista_pacientes[\"3\"][\"Pago de servicios\"] - Resultado_3[0],\n",
    "    \"Solo IVA\" : Resultado_3[1]\n",
    "    },\n",
    "    \"Paciente 4\": {\n",
    "    \"Precio final con IVA\" : Resultado_4[0],\n",
    "    \"Diferencia pago inicial\" : lista_pacientes[\"4\"][\"Pago de servicios\"] - Resultado_4[0],\n",
    "    \"Solo IVA\" : Resultado_4[1]\n",
    "    }\n",
    "    \n",
    "}\n",
    "pprint.pprint(dic)\n"
   ]
  },
  {
   "cell_type": "markdown",
   "id": "24487f99-05f5-46e1-8122-3f65409c1f5a",
   "metadata": {},
   "source": [
    "# Ejercicio 7"
   ]
  },
  {
   "cell_type": "code",
   "execution_count": 184,
   "id": "b22675c6-4f97-4bf8-9599-bd9030057ddd",
   "metadata": {},
   "outputs": [
    {
     "name": "stdout",
     "output_type": "stream",
     "text": [
      "{'Prima mensual': 300.0, 'Prima mensual con descuento': 0.0, 'Valor del descuento': 100}\n"
     ]
    }
   ],
   "source": [
    "def seguros(tipo, tiempo, valor, descuento_mes = 0.5):\n",
    "    tipos_seguro= {\n",
    "        \"Automoviles comunes\" : 0.03,\n",
    "        \"Carros para Uber\" : 0.05,\n",
    "        \"Motocicletas\" : 0.055,\n",
    "        \"Camion carga pesada o liviana\" : 0.04,\n",
    "        \"Embarcaciones\" : 0.05\n",
    "    }\n",
    "    porcentaje_mensual = tipos_seguro[tipo]\n",
    "    prima_mensual = valor * porcentaje_mensual\n",
    "    descuento = 0\n",
    "    if tiempo == \"mensual\":\n",
    "        descuento = 0\n",
    "    elif tiempo == \"trimestral\" :\n",
    "        descuento = descuento_mes * 2\n",
    "    elif tiempo == \"semestral\" : \n",
    "        descuento == descuento_mes * 5\n",
    "    elif tiempo == \"anual\":\n",
    "        descuento == decuento_mes * 11\n",
    "    else: \n",
    "        return \"Duracion incorrecta\"\n",
    "    prima_con_descuento = prima_mensual * descuento\n",
    "    return{\n",
    "        \"Prima mensual\" : prima_mensual,\n",
    "        f'Prima {tiempo} con descuento' : prima_con_descuento,\n",
    "        \"Valor del descuento\" : (1-descuento) * 100\n",
    "    }\n",
    "    \n",
    "#Ejemplo, se pueden variar los siguientes datos. \n",
    "valor = 10000\n",
    "tipo = \"Automoviles comunes\"\n",
    "tiempo = \"mensual\"\n",
    "\n",
    "resultado = seguros(tipo, tiempo, valor)\n",
    "print(resultado)\n"
   ]
  },
  {
   "cell_type": "markdown",
   "id": "fa9de0f9-39f6-43fa-883e-85654decf7bb",
   "metadata": {},
   "source": [
    "# Ejercicio 8"
   ]
  },
  {
   "cell_type": "code",
   "execution_count": 202,
   "id": "2a01bc55-fe85-4458-bfde-cbf17245ca41",
   "metadata": {},
   "outputs": [
    {
     "name": "stdout",
     "output_type": "stream",
     "text": [
      "{'Cantidad de meses a pagar': 360,\n",
      " 'Comisiones': 60000.0,\n",
      " 'Cuota mensual': 180.0,\n",
      " 'LTV': 80.0,\n",
      " 'Moneda del préstamo': 'colones',\n",
      " 'Monto préstamo solicitado': 1200000,\n",
      " 'Monto préstamo total': 1260000.0,\n",
      " 'Rating': 'AAA',\n",
      " 'Tasa interés base': 6.4,\n",
      " 'Tasa neta': 5.4,\n",
      " 'Tasa por moneda extranjera': 1.0000000000000002,\n",
      " 'Tasa preferencial (por garantía)': 5.4}\n"
     ]
    }
   ],
   "source": [
    "import pprint\n",
    "def credito_empresarial(monto_solicitado, plazo, moneda, rating, garantia, valor_garantia):\n",
    "    tasas_interes = {\n",
    "        \"AAA\" : 0.064,\n",
    "        \"BBB\" : 0.084,\n",
    "        \"C\" : 0.15,\n",
    "        \"D\" : 0.25\n",
    "    }\n",
    "    tasa_base = tasas_interes.get(rating)\n",
    "    if moneda != \"colones\":\n",
    "        tasa_base += 0.035\n",
    "        \n",
    "    if garantia:\n",
    "        tasa_preferencial = tasa_base -0.01\n",
    "    else:\n",
    "        tasa_preferencial = tasa_base\n",
    "\n",
    "    \n",
    "    tasa_neta = tasa_preferencial\n",
    "    interes_anual = monto_solicitado * tasa_neta\n",
    "    comisiones = monto_solicitado * 0.05\n",
    "    monto_prestamo_total = monto_solicitado + comisiones\n",
    "    LTV = (monto_solicitado / valor_garantia)*100\n",
    "    cantidad_meses = plazo * 12 #Cuota mensual\n",
    "    cuota_mensual = interes_anual / cantidad_meses\n",
    "    \n",
    "    resultado = {\n",
    "        \"Rating\": rating,\n",
    "        \"Tasa interés base\": tasa_base * 100,  \n",
    "        \"Moneda del préstamo\": moneda,\n",
    "        \"Tasa preferencial (por garantía)\": tasa_preferencial * 100,  \n",
    "        \"Tasa por moneda extranjera\": (tasa_base - tasa_preferencial) * 100, \n",
    "        \"Tasa neta\": tasa_neta * 100,  \n",
    "        \"Monto préstamo solicitado\": monto_solicitado,\n",
    "        \"Comisiones\": comisiones,\n",
    "        \"Monto préstamo total\": monto_prestamo_total,\n",
    "        \"LTV\": LTV,\n",
    "        \"Cantidad de meses a pagar\": cantidad_meses,\n",
    "        \"Cuota mensual\": cuota_mensual\n",
    "    } \n",
    "    return resultado\n",
    "    \n",
    "resultado = credito_empresarial( 1200000, 30, \"colones\", \"AAA\", True, 1500000,)\n",
    "pprint.pprint(resultado)\n",
    "\n",
    "    \n"
   ]
  }
 ],
 "metadata": {
  "kernelspec": {
   "display_name": "Python 3 (ipykernel)",
   "language": "python",
   "name": "python3"
  },
  "language_info": {
   "codemirror_mode": {
    "name": "ipython",
    "version": 3
   },
   "file_extension": ".py",
   "mimetype": "text/x-python",
   "name": "python",
   "nbconvert_exporter": "python",
   "pygments_lexer": "ipython3",
   "version": "3.11.7"
  }
 },
 "nbformat": 4,
 "nbformat_minor": 5
}
